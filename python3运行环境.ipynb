{
  "nbformat": 4,
  "nbformat_minor": 0,
  "metadata": {
    "colab": {
      "name": "python3运行环境.ipynb",
      "version": "0.3.2",
      "provenance": [],
      "toc_visible": true,
      "include_colab_link": true
    },
    "kernelspec": {
      "name": "python3",
      "display_name": "Python 3"
    }
  },
  "cells": [
    {
      "cell_type": "markdown",
      "metadata": {
        "id": "view-in-github",
        "colab_type": "text"
      },
      "source": [
        "<a href=\"https://colab.research.google.com/github/stanxia/GitHubPopular/blob/master/python3%E8%BF%90%E8%A1%8C%E7%8E%AF%E5%A2%83.ipynb\" target=\"_parent\"><img src=\"https://colab.research.google.com/assets/colab-badge.svg\" alt=\"Open In Colab\"/></a>"
      ]
    },
    {
      "cell_type": "code",
      "metadata": {
        "id": "a4sZZJZQ4P5s",
        "colab_type": "code",
        "colab": {}
      },
      "source": [
        "import pandas as pd"
      ],
      "execution_count": 0,
      "outputs": []
    },
    {
      "cell_type": "code",
      "metadata": {
        "id": "5piLx9gj4UZ3",
        "colab_type": "code",
        "colab": {}
      },
      "source": [
        "house_df = pd.read_csv('/content/data.csv',header=None)"
      ],
      "execution_count": 0,
      "outputs": []
    },
    {
      "cell_type": "code",
      "metadata": {
        "id": "jdq6ytsN4fgD",
        "colab_type": "code",
        "outputId": "f02b900e-644d-489b-8153-b5f87d9bffd5",
        "colab": {
          "base_uri": "https://localhost:8080/",
          "height": 204
        }
      },
      "source": [
        "house_df.head()"
      ],
      "execution_count": 0,
      "outputs": [
        {
          "output_type": "execute_result",
          "data": {
            "text/html": [
              "<div>\n",
              "<style scoped>\n",
              "    .dataframe tbody tr th:only-of-type {\n",
              "        vertical-align: middle;\n",
              "    }\n",
              "\n",
              "    .dataframe tbody tr th {\n",
              "        vertical-align: top;\n",
              "    }\n",
              "\n",
              "    .dataframe thead th {\n",
              "        text-align: right;\n",
              "    }\n",
              "</style>\n",
              "<table border=\"1\" class=\"dataframe\">\n",
              "  <thead>\n",
              "    <tr style=\"text-align: right;\">\n",
              "      <th></th>\n",
              "      <th>0</th>\n",
              "      <th>1</th>\n",
              "      <th>2</th>\n",
              "      <th>3</th>\n",
              "      <th>4</th>\n",
              "      <th>5</th>\n",
              "      <th>6</th>\n",
              "      <th>7</th>\n",
              "      <th>8</th>\n",
              "      <th>9</th>\n",
              "      <th>10</th>\n",
              "    </tr>\n",
              "  </thead>\n",
              "  <tbody>\n",
              "    <tr>\n",
              "      <th>0</th>\n",
              "      <td>ageGroup4</td>\n",
              "      <td>2019-08-07 08:00:00</td>\n",
              "      <td>xx系统常见病统计</td>\n",
              "      <td>xx年龄段呼吸系统常见病Top5</td>\n",
              "      <td>RespiratoryDiseaseTop1</td>\n",
              "      <td>常年性过敏性鼻炎</td>\n",
              "      <td>百分比</td>\n",
              "      <td>0.01%</td>\n",
              "      <td>23.12%</td>\n",
              "      <td>2.97%</td>\n",
              "      <td>2019-08-07 08:00:00</td>\n",
              "    </tr>\n",
              "    <tr>\n",
              "      <th>1</th>\n",
              "      <td>ageGroup4</td>\n",
              "      <td>2019-08-07 08:00:00</td>\n",
              "      <td>xx系统常见病统计</td>\n",
              "      <td>xx年龄段呼吸系统常见病Top5</td>\n",
              "      <td>RespiratoryDiseaseTop2</td>\n",
              "      <td>膝关节内侧副韧带损伤</td>\n",
              "      <td>百分比</td>\n",
              "      <td>0.01%</td>\n",
              "      <td>23.12%</td>\n",
              "      <td>0.24%</td>\n",
              "      <td>2019-08-07 08:00:00</td>\n",
              "    </tr>\n",
              "    <tr>\n",
              "      <th>2</th>\n",
              "      <td>ageGroup4</td>\n",
              "      <td>2019-08-07 08:00:00</td>\n",
              "      <td>xx系统常见病统计</td>\n",
              "      <td>xx年龄段呼吸系统常见病Top5</td>\n",
              "      <td>RespiratoryDiseaseTop3</td>\n",
              "      <td>前交叉韧带损伤</td>\n",
              "      <td>百分比</td>\n",
              "      <td>0.01%</td>\n",
              "      <td>23.12%</td>\n",
              "      <td>0.17%</td>\n",
              "      <td>2019-08-07 08:00:00</td>\n",
              "    </tr>\n",
              "    <tr>\n",
              "      <th>3</th>\n",
              "      <td>ageGroup4</td>\n",
              "      <td>2019-08-07 01:00:00</td>\n",
              "      <td>xx系统常见病统计</td>\n",
              "      <td>xx年龄段呼吸系统常见病Top5</td>\n",
              "      <td>RespiratoryDiseaseTop1</td>\n",
              "      <td>常年性过敏性鼻炎</td>\n",
              "      <td>百分比</td>\n",
              "      <td>0.01%</td>\n",
              "      <td>23.12%</td>\n",
              "      <td>2.97%</td>\n",
              "      <td>2019-08-07 01:00:00</td>\n",
              "    </tr>\n",
              "    <tr>\n",
              "      <th>4</th>\n",
              "      <td>ageGroup4</td>\n",
              "      <td>2019-08-07 01:00:00</td>\n",
              "      <td>xx系统常见病统计</td>\n",
              "      <td>xx年龄段呼吸系统常见病Top5</td>\n",
              "      <td>RespiratoryDiseaseTop2</td>\n",
              "      <td>膝关节内侧副韧带损伤</td>\n",
              "      <td>百分比</td>\n",
              "      <td>0.01%</td>\n",
              "      <td>23.12%</td>\n",
              "      <td>0.24%</td>\n",
              "      <td>2019-08-07 01:00:00</td>\n",
              "    </tr>\n",
              "  </tbody>\n",
              "</table>\n",
              "</div>"
            ],
            "text/plain": [
              "          0                    1   ...     9                    10\n",
              "0  ageGroup4  2019-08-07 08:00:00  ...  2.97%  2019-08-07 08:00:00\n",
              "1  ageGroup4  2019-08-07 08:00:00  ...  0.24%  2019-08-07 08:00:00\n",
              "2  ageGroup4  2019-08-07 08:00:00  ...  0.17%  2019-08-07 08:00:00\n",
              "3  ageGroup4  2019-08-07 01:00:00  ...  2.97%  2019-08-07 01:00:00\n",
              "4  ageGroup4  2019-08-07 01:00:00  ...  0.24%  2019-08-07 01:00:00\n",
              "\n",
              "[5 rows x 11 columns]"
            ]
          },
          "metadata": {
            "tags": []
          },
          "execution_count": 11
        }
      ]
    },
    {
      "cell_type": "code",
      "metadata": {
        "id": "Ff9E6PAA46Cc",
        "colab_type": "code",
        "colab": {}
      },
      "source": [
        ""
      ],
      "execution_count": 0,
      "outputs": []
    }
  ]
}